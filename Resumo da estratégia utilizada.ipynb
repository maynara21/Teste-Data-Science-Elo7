{
 "cells": [
  {
   "cell_type": "markdown",
   "metadata": {},
   "source": [
    "# Classificação"
   ]
  },
  {
   "cell_type": "markdown",
   "metadata": {},
   "source": [
    "A etapa inicial consistiu numa análise exploratória dos dados, a partir daí foram definidos os métodos a serem aplicados na classificação. \n",
    "\n",
    "<b>Seleção dos atributos </b>: Foi utilizada o método Extra Tree Classifier para atribuir importância aos atributos de acordo com sua contriuição no resultado final da classificação. Nessa etapa foi definido o uso da variável <b> price </b>. Na escolha da variável nominal, o atributo <b> query </b> foi selecionado.\n",
    "\n",
    "<b> Preprocessamento</b>: Devido a grande variação dos valores dos preços, os mesmos foram transformados em escala logarítmica. O dados da query foram vetorizados utilizando o TF-IDF.\n",
    "\n",
    "<b> Classificador </b>: Pelo robustez no tratamento de dados esparsos e com muitos valores 0, a SVM foi selecionada. Não houve hiperparametrização.\n",
    "\n",
    "<b> Resultados </b> O método classificou 84% das amostras corretamente, na distribuição entre classes, mesmo com o desbalanceamento claro, todas obtiveram mais de 70% dos dados corretamentes alocados.\n"
   ]
  },
  {
   "cell_type": "markdown",
   "metadata": {},
   "source": [
    "# Classes de intenção"
   ]
  },
  {
   "cell_type": "markdown",
   "metadata": {},
   "source": [
    "A abordagem para definir classes de intenção de compra dos clientes foi estabelecer novas variáveis a partir daquelas existentes para tentar traçar um perfil de interesse/compra. Os novos atributos foram:\n",
    "\n",
    "<b>conversion_ratio</b>: A razão entre número de vendas e visualizações dos produtos para analisar a taxa de conversão de vendas.\n",
    "\n",
    "<b>cosine_sim_tag</b>: Similaridade de cossenos entre os vetores das queries e das tags para entender se essa relação influencia na venda de produtos.\n",
    "\n",
    "Considerando a importância da variável preço nesse conjuntos de dados, a mesma também foi selecionada para ser utilizada no processo de segmentação dos produtos.\n",
    "\n",
    "Essa segmentação foi realizada através da aplicação do K-means. Para achar o número ótimo de K, o algoritmo foi executado no intervalor de 1-10 clusters e depois um gráfico do valor de fitness contra o número K foi traçado. A partir dai foi aplicado o método do cotovelo para encontrar o melhor K.\n",
    "\n",
    "Após essa etapa, os clusters foram analisados e um perfil de intenção de compra foi traçado para cada cluster. Os dados originais foram classificados e rotulados de acordo."
   ]
  },
  {
   "cell_type": "markdown",
   "metadata": {},
   "source": [
    "# Recomendação"
   ]
  },
  {
   "cell_type": "markdown",
   "metadata": {},
   "source": [
    "A recomendação foi alinhada às classes de intenção de compra. A partir da classificação da query em classes de intenção, os produtos desse grupo é filtrado e os mesmo são analisados da seguinte forma:\n",
    "<ul>\n",
    "    <li>É agrupado as informações nomimais de queries e tags para cada produto.</li>\n",
    "    <li>Essas informações são vetorizada, assim como a query de entrada do usuário.</li>\n",
    "    <li>Esses vetores são comparados com a entrada do usuário através do cáculo da similaridade de cossenos.</li>\n",
    "    <li>Ao fim os produtos são ordenado por similaridades e os 10 primeiros são filtrados para serem recomendados ao cliente.</li>\n",
    "</ul>"
   ]
  }
 ],
 "metadata": {
  "kernelspec": {
   "display_name": "Python 3",
   "language": "python",
   "name": "python3"
  },
  "language_info": {
   "codemirror_mode": {
    "name": "ipython",
    "version": 3
   },
   "file_extension": ".py",
   "mimetype": "text/x-python",
   "name": "python",
   "nbconvert_exporter": "python",
   "pygments_lexer": "ipython3",
   "version": "3.8.5"
  }
 },
 "nbformat": 4,
 "nbformat_minor": 4
}
